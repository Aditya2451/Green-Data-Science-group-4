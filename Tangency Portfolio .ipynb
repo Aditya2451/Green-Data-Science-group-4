{
 "cells": [
  {
   "cell_type": "code",
   "execution_count": 115,
   "id": "e3d89d16",
   "metadata": {},
   "outputs": [
    {
     "name": "stdout",
     "output_type": "stream",
     "text": [
      "returns_data initial structure:\n",
      "   Instrument    CO2 Equivalent Emissions Direct, Scope 1    \\\n",
      "0          AA                                1,68,00,000.00   \n",
      "1         AEO                                     12,343.00   \n",
      "2         AIZ                                      1,505.00   \n",
      "3         AKR                                      1,080.00   \n",
      "4         AMP                                      7,497.00   \n",
      "\n",
      "    CO2 Equivalent Emissions Indirect, Scope 2       Total Revenue    \\\n",
      "0                                   40,00,000.00  10,55,10,00,000.00   \n",
      "1                                      56,996.00   5,26,17,70,000.00   \n",
      "2                                      13,447.00  11,14,86,00,000.00   \n",
      "3                                       5,996.00     33,86,92,000.00   \n",
      "4                                      23,312.00  16,09,60,00,000.00   \n",
      "\n",
      "   Carbon Intensity   \n",
      "0           1,971.38  \n",
      "1              13.18  \n",
      "2               1.34  \n",
      "3              20.89  \n",
      "4               1.91  \n"
     ]
    }
   ],
   "source": [
    "import pandas as pd\n",
    "from pypfopt.efficient_frontier import EfficientFrontier\n",
    "from pypfopt import risk_models\n",
    "from pypfopt import plotting\n",
    "from pypfopt.expected_returns import mean_historical_return\n",
    "from sqlalchemy import create_engine\n",
    "import numpy as np\n",
    "import cvxpy as cp\n",
    "import matplotlib as mpl\n",
    "import matplotlib.pyplot as plt\n",
    "\n",
    "# Set plotting style and figure DPI (consider moving these to a configuration file)\n",
    "plt.style.use('ggplot')\n",
    "mpl.rcParams['figure.dpi'] = 150\n",
    "\n",
    "# Load the CSV files\n",
    "# Dropping unnamed columns from the 66 stock returns\n",
    "market_cap_data = pd.read_csv(r\"C:\\Users\\adhit\\OneDrive\\desktop\\GDS\\Green Data Science project\\DATA\\Market Cap_66 stocks.csv\", index_col='Date', parse_dates=True)\n",
    "returns_data = pd.read_csv(r\"C:\\Users\\adhit\\OneDrive\\desktop\\GDS\\Green Data Science project\\DATA\\Market Price_66 stocks.csv\", index_col='Date', parse_dates=True, usecols=range(67))\n",
    "emissions_data = pd.read_csv(r\"C:\\Users\\adhit\\OneDrive\\desktop\\GDS\\Green Data Science project\\DATA\\Emissions Data_66 stocks.csv\")\n",
    "sector_data = pd.read_csv(r\"C:\\Users\\adhit\\OneDrive\\desktop\\GDS\\Green Data Science project\\DATA\\sector.csv\")\n",
    "# Display the first few rows to inspect the structure\n",
    "print(\"returns_data initial structure:\")\n",
    "print(emissions_data.head())"
   ]
  },
  {
   "cell_type": "code",
   "execution_count": 116,
   "id": "970308b0",
   "metadata": {},
   "outputs": [],
   "source": [
    "# Bootstrap to fill missing values\n",
    "for column in returns_data.columns:\n",
    "    returns_data[[column]] = returns_data[[column]].apply(\n",
    "        lambda x: np.where(x.isnull(), x.dropna().sample(len(x), replace=True, random_state=123), x))\n"
   ]
  },
  {
   "cell_type": "code",
   "execution_count": 117,
   "id": "b56ca632",
   "metadata": {},
   "outputs": [],
   "source": [
    "# Sort df_sector by 'Instrument'\n",
    "sector_data = sector_data.sort_values('Instrument')"
   ]
  },
  {
   "cell_type": "code",
   "execution_count": 121,
   "id": "6920614d",
   "metadata": {},
   "outputs": [
    {
     "name": "stdout",
     "output_type": "stream",
     "text": [
      "Error: 'Instrument' column not found in emissions_data\n"
     ]
    }
   ],
   "source": [
    "# Filter df_emissions and df_esg by the 'Instrument' column matching df_sample's columns\n",
    "if 'Instrument' in emissions_data.columns:\n",
    "    emissions_data_filtered = emissions_data.loc[emissions_data['Instrument'].isin(instruments)].sort_values('Instrument').reset_index(drop=True)\n",
    "    print(\"Filtered Emissions Data:\")\n",
    "    print(emissions_data_filtered.head())\n",
    "else:\n",
    "    print(\"Error: 'Instrument' column not found in emissions_data\")"
   ]
  },
  {
   "cell_type": "code",
   "execution_count": 122,
   "id": "c55ea2ba",
   "metadata": {
    "scrolled": false
   },
   "outputs": [
    {
     "name": "stdout",
     "output_type": "stream",
     "text": [
      "\n",
      "emission_data:\n",
      "   Instrument    CO2 Equivalent Emissions Direct, Scope 1    \\\n",
      "0          AA                                1,68,00,000.00   \n",
      "1         AEO                                     12,343.00   \n",
      "2         AIZ                                      1,505.00   \n",
      "3         AKR                                      1,080.00   \n",
      "4         AMP                                      7,497.00   \n",
      "\n",
      "    CO2 Equivalent Emissions Indirect, Scope 2       Total Revenue    \\\n",
      "0                                   40,00,000.00  10,55,10,00,000.00   \n",
      "1                                      56,996.00   5,26,17,70,000.00   \n",
      "2                                      13,447.00  11,14,86,00,000.00   \n",
      "3                                       5,996.00     33,86,92,000.00   \n",
      "4                                      23,312.00  16,09,60,00,000.00   \n",
      "\n",
      "   Carbon Intensity   \n",
      "0           1,971.38  \n",
      "1              13.18  \n",
      "2               1.34  \n",
      "3              20.89  \n",
      "4               1.91  \n",
      "(66, 5)\n"
     ]
    }
   ],
   "source": [
    "# Display the resulting DataFrame\n",
    "print(\"\\nemission_data:\")\n",
    "print(emissions_data.head())\n",
    "print(emissions_data.shape)"
   ]
  },
  {
   "cell_type": "code",
   "execution_count": 124,
   "id": "35f32b79",
   "metadata": {},
   "outputs": [
    {
     "name": "stdout",
     "output_type": "stream",
     "text": [
      "Columns in emissions_data after renaming the first column:\n",
      "Index(['Instrument', '  CO2 Equivalent Emissions Direct, Scope 1  ',\n",
      "       '  CO2 Equivalent Emissions Indirect, Scope 2  ', '  Total Revenue  ',\n",
      "       ' Carbon Intensity '],\n",
      "      dtype='object')\n"
     ]
    }
   ],
   "source": [
    "# Rename the first column to 'Instrument'\n",
    "emissions_data.rename(columns={first_column_name: 'Instrument'}, inplace=True)\n",
    "print(\"Columns in emissions_data after renaming the first column:\")\n",
    "print(emissions_data.columns)"
   ]
  },
  {
   "cell_type": "code",
   "execution_count": 125,
   "id": "a1940b4e",
   "metadata": {},
   "outputs": [],
   "source": [
    "mu = mean_historical_return(returns_data, frequency=12, returns_data=True)\n",
    "S = risk_models.risk_matrix(returns_data, method='ledoit_wolf', returns_data=True)"
   ]
  },
  {
   "cell_type": "code",
   "execution_count": 126,
   "id": "c46022ec",
   "metadata": {},
   "outputs": [],
   "source": [
    "ef = EfficientFrontier(mu, S, weight_bounds=(0, 1))\n",
    "weights = ef.max_sharpe()"
   ]
  },
  {
   "cell_type": "code",
   "execution_count": 127,
   "id": "2485da2d",
   "metadata": {},
   "outputs": [],
   "source": [
    "# Convert weights to a DataFrame\n",
    "tangency_weights = pd.DataFrame.from_dict(weights, orient='index', columns=['Weight'])"
   ]
  },
  {
   "cell_type": "code",
   "execution_count": 128,
   "id": "6779d758",
   "metadata": {},
   "outputs": [],
   "source": [
    "# Filter and sort the weights\n",
    "filtered_weights = tangency_weights[tangency_weights['Weight'] > 0].sort_values(by='Weight', ascending=False)"
   ]
  },
  {
   "cell_type": "code",
   "execution_count": 129,
   "id": "e9e3d98d",
   "metadata": {},
   "outputs": [],
   "source": [
    "# Reset the index to convert the index into a column\n",
    "filtered_weights = filtered_weights.reset_index()"
   ]
  },
  {
   "cell_type": "code",
   "execution_count": 130,
   "id": "f5ef7f84",
   "metadata": {},
   "outputs": [],
   "source": [
    "# Rename the columns\n",
    "filtered_weights.columns = ['Tickers', 'Weight']"
   ]
  },
  {
   "cell_type": "code",
   "execution_count": 236,
   "id": "f9b1bd4c",
   "metadata": {},
   "outputs": [],
   "source": [
    "# Save the DataFrame to a CSV file\n",
    "filtered_weights.to_csv('tgncy_weights.csv', index=False)"
   ]
  },
  {
   "cell_type": "code",
   "execution_count": 132,
   "id": "45df7351",
   "metadata": {},
   "outputs": [
    {
     "name": "stdout",
     "output_type": "stream",
     "text": [
      "Shape of tangency_weights.T.values: (1, 66)\n",
      "Shape of emissions_data: (66, 5)\n"
     ]
    }
   ],
   "source": [
    "# Inspect the shapes\n",
    "print(\"Shape of tangency_weights.T.values:\", tangency_weights.T.values.shape)\n",
    "print(\"Shape of emissions_data:\", emissions_data.shape)"
   ]
  },
  {
   "cell_type": "code",
   "execution_count": 133,
   "id": "ceff06ff",
   "metadata": {},
   "outputs": [
    {
     "name": "stdout",
     "output_type": "stream",
     "text": [
      "  Instrument   CO2 Equivalent Emissions Direct, Scope 1    \\\n",
      "0        AA                                1,68,00,000.00   \n",
      "1       AEO                                     12,343.00   \n",
      "2       AIZ                                      1,505.00   \n",
      "3       AKR                                      1,080.00   \n",
      "4       AMP                                      7,497.00   \n",
      "\n",
      "    CO2 Equivalent Emissions Indirect, Scope 2       Total Revenue    \\\n",
      "0                                   40,00,000.00  10,55,10,00,000.00   \n",
      "1                                      56,996.00   5,26,17,70,000.00   \n",
      "2                                      13,447.00  11,14,86,00,000.00   \n",
      "3                                       5,996.00     33,86,92,000.00   \n",
      "4                                      23,312.00  16,09,60,00,000.00   \n",
      "\n",
      "   Carbon Intensity   \n",
      "0           1,971.38  \n",
      "1              13.18  \n",
      "2               1.34  \n",
      "3              20.89  \n",
      "4               1.91  \n"
     ]
    }
   ],
   "source": [
    "print(emissions_data.head())"
   ]
  },
  {
   "cell_type": "code",
   "execution_count": 134,
   "id": "ea64f33f",
   "metadata": {},
   "outputs": [],
   "source": [
    "tangency_returns = (tangency_weights.T.values*returns_data).sum(axis=1)"
   ]
  },
  {
   "cell_type": "code",
   "execution_count": 135,
   "id": "130c2523",
   "metadata": {},
   "outputs": [
    {
     "name": "stdout",
     "output_type": "stream",
     "text": [
      "Minimum: -0.0781\n",
      "Maximum: 0.1551\n",
      "25%: -0.0048\n",
      "50% (median): 0.0242\n",
      "75%: 0.0460\n"
     ]
    }
   ],
   "source": [
    "min_return = np.min(tangency_returns)\n",
    "max_return = np.max(tangency_returns)\n",
    "percentiles = np.percentile(tangency_returns, [25, 50, 75])\n",
    "print(f\"Minimum: {min_return:.4f}\")\n",
    "print(f\"Maximum: {max_return:.4f}\")\n",
    "print(f\"25%: {percentiles[0]:.4f}\")\n",
    "print(f\"50% (median): {percentiles[1]:.4f}\")\n",
    "print(f\"75%: {percentiles[2]:.4f}\")"
   ]
  },
  {
   "cell_type": "code",
   "execution_count": 136,
   "id": "5ab51966",
   "metadata": {},
   "outputs": [],
   "source": [
    "mu_tangency_monthly = tangency_returns.mean()\n",
    "mu_tangency_annual = (1+mu_tangency_monthly)**12-1"
   ]
  },
  {
   "cell_type": "code",
   "execution_count": 137,
   "id": "be4f947e",
   "metadata": {},
   "outputs": [],
   "source": [
    "sigma_sq_tangency = tangency_returns.var(ddof=1)\n",
    "sigma_tangency_monthly = tangency_returns.std(ddof=1)\n",
    "sigma_tangency_annual = sigma_tangency_monthly*np.sqrt(12)"
   ]
  },
  {
   "cell_type": "code",
   "execution_count": 138,
   "id": "c451d11e",
   "metadata": {},
   "outputs": [],
   "source": [
    "sr_tangency = mu_tangency_monthly/sigma_tangency_monthly*np.sqrt(12)"
   ]
  },
  {
   "cell_type": "code",
   "execution_count": 139,
   "id": "32665ea8",
   "metadata": {},
   "outputs": [],
   "source": [
    "num_inv_tangency = np.sum(tangency_weights.values>0)\n",
    "num_sectors_tangency = sector_data.merge(tangency_weights.loc[tangency_weights['Weight']>0], \n",
    "                                        left_on='Instrument', right_index=True)['TRBC Economic Sector Name'].nunique()"
   ]
  },
  {
   "cell_type": "code",
   "execution_count": 140,
   "id": "b3727c2d",
   "metadata": {},
   "outputs": [
    {
     "name": "stdout",
     "output_type": "stream",
     "text": [
      "Tangency Sector Weights:\n",
      " TRBC Economic Sector Name\n",
      "Basic Materials           0.000000\n",
      "Consumer Cyclicals        0.282539\n",
      "Consumer Non-Cyclicals    0.117865\n",
      "Energy                    0.024224\n",
      "Financials                0.095747\n",
      "Healthcare                0.000000\n",
      "Industrials               0.139074\n",
      "Real Estate               0.000000\n",
      "Technology                0.340552\n",
      "Utilities                 0.000000\n",
      "Name: Weight, dtype: float64\n"
     ]
    }
   ],
   "source": [
    "tangency_sector_weights = tangency_weights.merge(sector_data, left_index=True, right_on='Instrument').groupby('TRBC Economic Sector Name')['Weight'].sum()\n",
    "print(\"Tangency Sector Weights:\\n\", tangency_sector_weights)"
   ]
  },
  {
   "cell_type": "code",
   "execution_count": 146,
   "id": "3b0104f9",
   "metadata": {},
   "outputs": [],
   "source": [
    " # Ensure tangency_weights is correctly shaped\n",
    "tangency_weights_values = tangency_weights['Weight'].values\n",
    "emissions_data_numeric = emissions_data.drop(columns=['Instrument']).apply(pd.to_numeric, errors='coerce')"
   ]
  },
  {
   "cell_type": "code",
   "execution_count": 148,
   "id": "0328eaf7",
   "metadata": {},
   "outputs": [],
   "source": [
    "# Perform the element-wise multiplication and summation\n",
    "tangency_ScaledEmissions = (tangency_weights_values * emissions_data_numeric.T).sum(axis=1)"
   ]
  },
  {
   "cell_type": "code",
   "execution_count": 149,
   "id": "3cf6ae40",
   "metadata": {},
   "outputs": [],
   "source": [
    "tangency_ScaledEmissions.to_csv('EmsScld_reve_tngcy.csv', index=False)\n",
    "tangency_sector_weights = tangency_weights.merge(sector_data, left_index=True, right_on='Instrument').groupby('TRBC Economic Sector Name')['Weight'].sum()"
   ]
  },
  {
   "cell_type": "code",
   "execution_count": 150,
   "id": "2ffff437",
   "metadata": {},
   "outputs": [
    {
     "name": "stdout",
     "output_type": "stream",
     "text": [
      "Shape of tangency_weights['Weight'].values: (66,)\n",
      "Shape of emissions_data.drop(columns=['Instrument']).T: (4, 66)\n"
     ]
    }
   ],
   "source": [
    "print(\"Shape of tangency_weights['Weight'].values:\", tangency_weights['Weight'].values.shape)\n",
    "print(\"Shape of emissions_data.drop(columns=['Instrument']).T:\", emissions_data.drop(columns=['Instrument']).T.shape)"
   ]
  },
  {
   "cell_type": "code",
   "execution_count": 214,
   "id": "682ce11a",
   "metadata": {},
   "outputs": [
    {
     "name": "stdout",
     "output_type": "stream",
     "text": [
      "  CO2 Equivalent Emissions Direct, Scope 1         2.887164\n",
      "  CO2 Equivalent Emissions Indirect, Scope 2       0.000000\n",
      "  Total Revenue                                    0.000000\n",
      " Carbon Intensity                                 32.839657\n",
      "dtype: float64\n"
     ]
    }
   ],
   "source": [
    "print(tangency_ScaledEmissions.head())\n",
    "tangency_ScaledEmissions.to_csv('tangency_ScaledEmissions.csv', index=True)"
   ]
  },
  {
   "cell_type": "code",
   "execution_count": null,
   "id": "90b671cd",
   "metadata": {},
   "outputs": [],
   "source": [
    "############################################################################"
   ]
  },
  {
   "cell_type": "code",
   "execution_count": 300,
   "id": "2f3ccee4",
   "metadata": {},
   "outputs": [
    {
     "name": "stdout",
     "output_type": "stream",
     "text": [
      "Column in weights: Index(['Tickers', 'Weight'], dtype='object')\n"
     ]
    }
   ],
   "source": [
    "import pandas as pd\n",
    "import numpy as np\n",
    "returns_data = pd.read_csv(r\"C:\\Users\\adhit\\OneDrive\\desktop\\GDS\\Green Data Science project\\DATA\\Market Price_66 stocks.csv\", index_col='Date', parse_dates=True, usecols=range(67))\n",
    "emissions_data = pd.read_csv(r\"C:\\Users\\adhit\\OneDrive\\desktop\\GDS\\Green Data Science project\\DATA\\Emissions Data_66 stocks.csv\")\n",
    "weights_data = pd.read_csv(r\"C:\\Users\\adhit\\OneDrive\\desktop\\GDS\\Green Data Science project\\DATA\\tgncy_weights.csv\")\n",
    "print(\"Column in weights:\",weights_data.columns)"
   ]
  },
  {
   "cell_type": "code",
   "execution_count": 290,
   "id": "688b33ce",
   "metadata": {},
   "outputs": [],
   "source": [
    "# List of new instrument names\n",
    "new_instruments = ['AA', 'AEO', 'AIZ', 'AKR', 'AMP', 'APH', 'APO', 'AVB', 'AWR', 'AXP', 'AXS', 'BAH', 'BFb', 'BJ', 'BRX', 'BV', 'CHH', 'CNC', 'CRM', 'D', 'DOC', 'DPZ', 'EAT', 'EL', 'FAF', 'FDX', 'FND', 'GE', 'GM', 'GS', 'HD', 'HES', 'HIW', 'HRB', 'HWM', 'IFF', 'IQV', 'IR', 'LEN', 'MDU', 'MKC', 'MRO', 'MTX', 'NEE', 'NFG', 'NOW', 'OXY', 'PEG', 'PNM', 'PPL', 'PRU', 'RYI', 'SLG', 'SPG', 'SQ', 'TDY', 'THS', 'TYL', 'UE', 'VZ', 'W', 'WHR', 'WOR', 'WSR', 'XHR', 'XOM']\n",
    "\n",
    "# Ensure the list length matches the DataFrame length\n",
    "if len(new_instruments) == len(emissions_data):\n",
    "    # Replace the 'Instrument' column with the new list\n",
    "    emissions_data['Instrument'] = new_instruments\n",
    "else:\n",
    "    print(f\"Error: The length of the new instrument list ({len(new_instruments)}) does not match the length of the emissions_data DataFrame ({len(emissions_data)})\")"
   ]
  },
  {
   "cell_type": "code",
   "execution_count": 291,
   "id": "7321dee6",
   "metadata": {},
   "outputs": [],
   "source": [
    "# Assuming the correct column name is 'Tickers' based on your previous requirements\n",
    "weights_data.columns = ['Tickers', 'Weight']  # Ensure correct column names"
   ]
  },
  {
   "cell_type": "code",
   "execution_count": 292,
   "id": "c060baf6",
   "metadata": {},
   "outputs": [],
   "source": [
    "# Strip extra spaces from column names\n",
    "emissions_data.columns = emissions_data.columns.str.strip()"
   ]
  },
  {
   "cell_type": "code",
   "execution_count": 293,
   "id": "e55bcd4c",
   "metadata": {},
   "outputs": [],
   "source": [
    "# Set the index for easy access to rows based on Instrument\n",
    "emissions_data.set_index('Instrument', inplace=True)"
   ]
  },
  {
   "cell_type": "code",
   "execution_count": 294,
   "id": "27bdafbb",
   "metadata": {},
   "outputs": [],
   "source": [
    "# Convert weights to a Series for easy manipulation\n",
    "weights = pd.Series(weights_data.set_index('Tickers')['Weight'])"
   ]
  },
  {
   "cell_type": "code",
   "execution_count": 295,
   "id": "11fcdeeb",
   "metadata": {},
   "outputs": [
    {
     "name": "stdout",
     "output_type": "stream",
     "text": [
      "All instruments found in emissions_data.\n"
     ]
    }
   ],
   "source": [
    "# Ensure returns_data columns are present in the index\n",
    "matching_instruments = [instrument for instrument in returns_data.columns if instrument in emissions_data.index]\n",
    "\n",
    "# Handle missing instruments\n",
    "missing_instruments = [instrument for instrument in returns_data.columns if instrument not in emissions_data.index]\n",
    "if missing_instruments:\n",
    "    print(f\"Warning: The following instruments are not found in emissions_data and will be ignored: {missing_instruments}\")\n",
    "else:\n",
    "    print(\"All instruments found in emissions_data.\")"
   ]
  },
  {
   "cell_type": "code",
   "execution_count": 296,
   "id": "c0936308",
   "metadata": {},
   "outputs": [],
   "source": [
    "# Use the correct column names\n",
    "direct_emissions = emissions_data.loc[returns_data.columns, 'CO2 Equivalent Emissions Direct, Scope 1']\n",
    "indirect_emissions = emissions_data.loc[returns_data.columns, 'CO2 Equivalent Emissions Indirect, Scope 2']"
   ]
  },
  {
   "cell_type": "code",
   "execution_count": 297,
   "id": "06a9d4ff",
   "metadata": {},
   "outputs": [],
   "source": [
    "# Calculate the total emissions for each ticker\n",
    "total_emissions = direct_emissions + indirect_emissions"
   ]
  },
  {
   "cell_type": "code",
   "execution_count": 304,
   "id": "db62e8d0",
   "metadata": {},
   "outputs": [
    {
     "name": "stdout",
     "output_type": "stream",
     "text": [
      "Weighted Emissions:\n",
      "[[282.538874 ]\n",
      " [334.937828 ]\n",
      " [417.220671 ]\n",
      " [355.75794  ]\n",
      " [ 35.9077845]\n",
      " [ 96.2859195]\n",
      " [134.7963375]\n",
      " [161.1720565]\n",
      " [188.22861  ]\n",
      " [133.2297615]\n",
      " [129.6952865]]\n",
      "\n",
      "Median Raw Emissions: 3000.0\n"
     ]
    }
   ],
   "source": [
    "import numpy as np\n",
    "import pandas as pd\n",
    "\n",
    "# Example data for total emissions\n",
    "data = {\n",
    "    'Instrument': ['BJ', 'BAH', 'HWM', 'NOW', 'GE', 'TYL', 'APO', 'HRB', 'AIZ', 'HES', 'APH'],\n",
    "    'CO2 Equivalent Emissions Direct, Scope 1': ['1000', '2000', '3000', '4000', '500', '1500', '2500', '3500', '4500', '5500', '6500']\n",
    "}\n",
    "total_emissions_df = pd.DataFrame(data)\n",
    "\n",
    "# Weights for the portfolio\n",
    "weights_data = {\n",
    "    'Tickers': ['BJ', 'BAH', 'HWM', 'NOW', 'GE', 'TYL', 'APO', 'HRB', 'AIZ', 'HES', 'APH'],\n",
    "    'Weight': [0.282538874, 0.167468914, 0.139073557, 0.088939485, 0.071815569, 0.064190613,\n",
    "               0.053918535, 0.046049159, 0.04182858, 0.024223593, 0.019953121]\n",
    "}\n",
    "weights_df = pd.DataFrame(weights_data)\n",
    "\n",
    "# Ensure 'Instrument' is the index for total_emissions_df\n",
    "total_emissions_df.set_index('Instrument', inplace=True)\n",
    "\n",
    "# Convert emission values to numeric\n",
    "total_emissions_numeric = total_emissions_df.apply(pd.to_numeric, errors='coerce')\n",
    "\n",
    "# Ensure weights are aligned with total emissions\n",
    "weights_df.set_index('Tickers', inplace=True)\n",
    "weights_aligned = weights_df.loc[total_emissions_df.index, 'Weight'].values\n",
    "\n",
    "# Calculate the weighted emissions for the portfolio\n",
    "weighted_emissions = weights_aligned[:, np.newaxis] * total_emissions_numeric.values\n",
    "\n",
    "# Calculate the median of the total emissions\n",
    "median_raw_weighted_emissions = np.median(total_emissions_numeric.values)\n",
    "\n",
    "print(\"Weighted Emissions:\")\n",
    "print(weighted_emissions)\n",
    "print(\"\\nMedian Raw Emissions:\", median_raw_weighted_emissions)"
   ]
  },
  {
   "cell_type": "code",
   "execution_count": 306,
   "id": "59053280",
   "metadata": {},
   "outputs": [],
   "source": [
    "# Calculate the sum of weighted emissions to get the 'Raw Emission of Market Cap Based Portfolio'\n",
    "raw_emission_tangency_based_portfolio = weighted_emissions.sum()"
   ]
  },
  {
   "cell_type": "code",
   "execution_count": 309,
   "id": "d50209fd",
   "metadata": {},
   "outputs": [
    {
     "name": "stdout",
     "output_type": "stream",
     "text": [
      "Median Raw Emissions: 3000.0\n",
      "Emission Results:\n",
      "           Ticker    Weight  Direct Emissions  Weighted Emissions\n",
      "Instrument                                                       \n",
      "BJ             BJ  0.282539              1000          282.538874\n",
      "BAH           BAH  0.167469              2000          334.937828\n",
      "HWM           HWM  0.139074              3000          417.220671\n",
      "NOW           NOW  0.088939              4000          355.757940\n",
      "GE             GE  0.071816               500           35.907784\n",
      "TYL           TYL  0.064191              1500           96.285919\n",
      "APO           APO  0.053919              2500          134.796337\n",
      "HRB           HRB  0.046049              3500          161.172056\n",
      "AIZ           AIZ  0.041829              4500          188.228610\n",
      "HES           HES  0.024224              5500          133.229761\n",
      "APH           APH  0.019953              6500          129.695287\n"
     ]
    }
   ],
   "source": [
    "import numpy as np\n",
    "import pandas as pd\n",
    "\n",
    "# Example data for total emissions\n",
    "data = {\n",
    "    'Instrument': ['BJ', 'BAH', 'HWM', 'NOW', 'GE', 'TYL', 'APO', 'HRB', 'AIZ', 'HES', 'APH'],\n",
    "    'CO2 Equivalent Emissions Direct, Scope 1': ['1000', '2000', '3000', '4000', '500', '1500', '2500', '3500', '4500', '5500', '6500']\n",
    "}\n",
    "total_emissions_df = pd.DataFrame(data)\n",
    "\n",
    "# Weights for the portfolio\n",
    "weights_data = {\n",
    "    'Tickers': ['BJ', 'BAH', 'HWM', 'NOW', 'GE', 'TYL', 'APO', 'HRB', 'AIZ', 'HES', 'APH'],\n",
    "    'Weight': [0.282538874, 0.167468914, 0.139073557, 0.088939485, 0.071815569, 0.064190613,\n",
    "               0.053918535, 0.046049159, 0.04182858, 0.024223593, 0.019953121]\n",
    "}\n",
    "weights_df = pd.DataFrame(weights_data)\n",
    "\n",
    "# Ensure 'Instrument' is the index for total_emissions_df\n",
    "total_emissions_df.set_index('Instrument', inplace=True)\n",
    "\n",
    "# Convert emission values to numeric\n",
    "total_emissions_numeric = total_emissions_df.apply(pd.to_numeric, errors='coerce')\n",
    "\n",
    "# Ensure weights are aligned with total emissions\n",
    "weights_df.set_index('Tickers', inplace=True)\n",
    "weights_aligned = weights_df.loc[total_emissions_df.index, 'Weight'].values\n",
    "\n",
    "# Calculate the weighted emissions for the portfolio\n",
    "weighted_emissions = weights_aligned[:, np.newaxis] * total_emissions_numeric.values\n",
    "\n",
    "# Ensure weighted_emissions is 1-dimensional for DataFrame construction\n",
    "weighted_emissions_flat = weighted_emissions.flatten()\n",
    "\n",
    "# Calculate the median of the total emissions\n",
    "median_raw_weighted_emissions = np.median(total_emissions_numeric.values)\n",
    "\n",
    "# Create a DataFrame to store the results and save to CSV\n",
    "emission_results = pd.DataFrame({\n",
    "    'Ticker': total_emissions_df.index,\n",
    "    'Weight': weights_aligned,\n",
    "    'Direct Emissions': total_emissions_numeric['CO2 Equivalent Emissions Direct, Scope 1'],\n",
    "    'Weighted Emissions': weighted_emissions_flat\n",
    "})\n",
    "emission_results.to_csv('raw_emission_tangency_based_portfolio.csv', index=False)\n",
    "\n",
    "print(\"Median Raw Emissions:\", median_raw_weighted_emissions)\n",
    "print(\"Emission Results:\")\n",
    "print(emission_results)"
   ]
  },
  {
   "cell_type": "code",
   "execution_count": 310,
   "id": "56e57f62",
   "metadata": {},
   "outputs": [
    {
     "name": "stdout",
     "output_type": "stream",
     "text": [
      "Detailed calculations have been saved to 'raw_emission_tangency_based_portfolio.csv'.\n",
      "Raw Emission of Tangency Based Portfolio: 2269.771069\n"
     ]
    }
   ],
   "source": [
    "print(\"Detailed calculations have been saved to 'raw_emission_tangency_based_portfolio.csv'.\")\n",
    "print(\"Raw Emission of Tangency Based Portfolio:\", raw_emission_tangency_based_portfolio)"
   ]
  },
  {
   "cell_type": "code",
   "execution_count": null,
   "id": "c98ef4c6",
   "metadata": {},
   "outputs": [],
   "source": [
    "####################################################################"
   ]
  },
  {
   "cell_type": "code",
   "execution_count": null,
   "id": "b8f6e798",
   "metadata": {},
   "outputs": [],
   "source": [
    "#Efficient frontier with no constraints "
   ]
  },
  {
   "cell_type": "code",
   "execution_count": 344,
   "id": "198859c3",
   "metadata": {},
   "outputs": [
    {
     "data": {
      "image/png": "[encoded data removed]",
      "text/plain": [
       "<Figure size 960x720 with 1 Axes>"
      ]
     },
     "metadata": {},
     "output_type": "display_data"
    }
   ],
   "source": [
    "import pandas as pd\n",
    "from pypfopt.efficient_frontier import EfficientFrontier\n",
    "from pypfopt import risk_models\n",
    "from pypfopt import plotting\n",
    "from pypfopt.expected_returns import mean_historical_return\n",
    "from sqlalchemy import create_engine\n",
    "import numpy as np\n",
    "import cvxpy as cp\n",
    "import matplotlib as mpl\n",
    "import matplotlib.pyplot as plt\n",
    "plt.style.use('ggplot')\n",
    "mpl.rcParams['figure.dpi'] = 150\n",
    "\n",
    "# Assuming df_sample is defined somewhere in your code\n",
    "mu = mean_historical_return(returns_data, frequency=12, returns_data=True)\n",
    "S = risk_models.risk_matrix(returns_data, method='ledoit_wolf', returns_data=True)\n",
    "\n",
    "ef = EfficientFrontier(mu, S, weight_bounds=(0, 1))\n",
    "\n",
    "# Generate the efficient frontier curve\n",
    "fig, ax = plt.subplots()\n",
    "plotting.plot_efficient_frontier(ef, ax=ax, show_assets=True, verbose=True)  # Adding verbose to the plotting function\n",
    "\n",
    "# Add legend and titles\n",
    "ax.set_title(\"Efficient Frontier without Constraints\")\n",
    "ax.legend()\n",
    "\n",
    "# Display the plot\n",
    "plt.show()"
   ]
  },
  {
   "cell_type": "code",
   "execution_count": 345,
   "id": "708714ba",
   "metadata": {},
   "outputs": [
    {
     "data": {
      "text/plain": [
       "0.17372802365015497"
      ]
     },
     "execution_count": 345,
     "metadata": {},
     "output_type": "execute_result"
    }
   ],
   "source": [
    "sigma_tangency_annual"
   ]
  },
  {
   "cell_type": "code",
   "execution_count": 314,
   "id": "78643df8",
   "metadata": {},
   "outputs": [
    {
     "data": {
      "text/plain": [
       "0.33065086313143044"
      ]
     },
     "execution_count": 314,
     "metadata": {},
     "output_type": "execute_result"
    }
   ],
   "source": [
    "mu_tangency_annual"
   ]
  },
  {
   "cell_type": "code",
   "execution_count": 318,
   "id": "e6415217",
   "metadata": {},
   "outputs": [
    {
     "name": "stdout",
     "output_type": "stream",
     "text": [
      "Median Carbon Intensity: 162.5\n"
     ]
    }
   ],
   "source": [
    "# Example data for returns_data\n",
    "returns_data = pd.DataFrame({\n",
    "    'AA': [0.01, 0.02, 0.03],\n",
    "    'AEO': [0.02, 0.03, 0.04],\n",
    "    'AIZ': [0.03, 0.04, 0.05],\n",
    "    'AKR': [0.04, 0.05, 0.06]\n",
    "})\n",
    "\n",
    "# Example emissions data\n",
    "emissions_df = pd.DataFrame({\n",
    "    'Instrument': ['AA', 'AEO', 'AIZ', 'AKR', 'AMP'],\n",
    "    'Carbon Intensity': [100, 200, 150, 175, 130]\n",
    "})\n",
    "\n",
    "# Extract the tickers from returns_data\n",
    "tickers = returns_data.columns\n",
    "\n",
    "# Prepare the emissions data for lookup\n",
    "# Setting up the DataFrame with necessary columns\n",
    "emissions_data = emissions_df[['Instrument', 'Carbon Intensity']].copy()\n",
    "emissions_data.set_index('Instrument', inplace=True)\n",
    "\n",
    "# Extract the carbon intensities for the tickers in returns_data\n",
    "carbon_intensities = emissions_data.loc[tickers]\n",
    "\n",
    "# Handle cases where some tickers might not be found in emissions_data\n",
    "carbon_intensities = carbon_intensities['Carbon Intensity'].fillna(0)  # Replace NaN with 0 if any tickers were not matched\n",
    "\n",
    "# Calculate the median carbon intensity\n",
    "median_carbon_intensity = carbon_intensities.median()\n",
    "\n",
    "# Output the median carbon intensity\n",
    "print(\"Median Carbon Intensity:\", median_carbon_intensity)\n"
   ]
  },
  {
   "cell_type": "code",
   "execution_count": 322,
   "id": "fccb7104",
   "metadata": {},
   "outputs": [
    {
     "name": "stdout",
     "output_type": "stream",
     "text": [
      "Optimization failed: ('Please check your objectives/constraints or use a different solver.', 'Solver status: infeasible')\n",
      "Relaxed optimization failed: Adding constraints to an already solved problem might have unintended consequences. A new instance should be created for the new set of constraints.\n",
      "Optimization did not produce weights.\n"
     ]
    }
   ],
   "source": [
    "import pandas as pd\n",
    "from pypfopt.efficient_frontier import EfficientFrontier\n",
    "from pypfopt import risk_models\n",
    "from pypfopt.expected_returns import mean_historical_return\n",
    "import numpy as np\n",
    "import cvxpy as cp\n",
    "import matplotlib.pyplot as plt\n",
    "from pypfopt import plotting\n",
    "\n",
    "plt.style.use('ggplot')\n",
    "plt.rcParams['figure.dpi'] = 150\n",
    "\n",
    "# Sample data for demonstration (replace with actual data)\n",
    "data = {\n",
    "    'AA': [0.01, 0.02, 0.03],\n",
    "    'AEO': [0.02, 0.03, 0.04],\n",
    "    'AIZ': [0.03, 0.04, 0.05],\n",
    "    'AKR': [0.04, 0.05, 0.06]\n",
    "}\n",
    "df_sample = pd.DataFrame(data)\n",
    "\n",
    "emissions_data = {\n",
    "    'Instrument': ['AA', 'AEO', 'AIZ', 'AKR'],\n",
    "    'Carbon Intensity': [100, 200, 150, 175]\n",
    "}\n",
    "df_emissions = pd.DataFrame(emissions_data).set_index('Instrument')\n",
    "\n",
    "# Define the CI function for carbon intensity\n",
    "def CI(w, portfolio_intensity):\n",
    "    xi = w @ portfolio_intensity.T\n",
    "    return cp.sum(xi)\n",
    "\n",
    "# Calculate expected returns and covariance matrix\n",
    "mu = mean_historical_return(df_sample, frequency=12, returns_data=True)\n",
    "S = risk_models.risk_matrix(df_sample, method='ledoit_wolf', returns_data=True)\n",
    "\n",
    "# Initialize EfficientFrontier\n",
    "ef_constrained4 = EfficientFrontier(mu, S, weight_bounds=(0, 1))\n",
    "\n",
    "# Add constraint for carbon intensity\n",
    "median_carbon_intensity = 23.372106414999998  # Example median value\n",
    "ef_constrained4.add_constraint(lambda w: CI(w, df_emissions['Carbon Intensity']) <= median_carbon_intensity)\n",
    "\n",
    "# Set the solver to OSQP and enable verbose output\n",
    "ef_constrained4.convex_solver = 'OSQP'\n",
    "try:\n",
    "    weights4 = ef_constrained4.max_sharpe()\n",
    "    ef_constrained4.portfolio_performance(verbose=True)\n",
    "except ValueError as e:\n",
    "    print(\"Solver failed:\", e)\n",
    "except Exception as e:\n",
    "    print(f\"Optimization failed: {e}\")\n",
    "\n",
    "# If infeasible, try relaxing the carbon intensity constraint\n",
    "try:\n",
    "    ef_constrained4.constraints = []  # Reset constraints\n",
    "    relaxed_median_carbon_intensity = median_carbon_intensity * 1.5  # Relax constraint by 50%\n",
    "    ef_constrained4.add_constraint(lambda w: CI(w, df_emissions['Carbon Intensity']) <= relaxed_median_carbon_intensity)\n",
    "    weights4 = ef_constrained4.max_sharpe()\n",
    "    ef_constrained4.portfolio_performance(verbose=True)\n",
    "except Exception as e:\n",
    "    print(f\"Relaxed optimization failed: {e}\")\n",
    "\n",
    "# Create dataframe from weights if optimization was successful\n",
    "if 'weights4' in locals():\n",
    "    constrained4_weights = pd.DataFrame.from_dict(weights4, orient='index', columns=['Weight'])\n",
    "    # Filter and sort weights\n",
    "    constrained4_weights = constrained4_weights[constrained4_weights['Weight'] > 10**-5].sort_values(by='Weight', ascending=False)\n",
    "\n",
    "    # Print dimensions of the transposed weights for debugging\n",
    "    print(\"Dimensions of transposed weights:\", constrained4_weights.T.values.shape)\n",
    "\n",
    "    # Calculate portfolio returns\n",
    "    weight_series = constrained4_weights.squeeze()  # This assumes the DataFrame has a single column of weights.\n",
    "    weight_series_aligned = weight_series.reindex(df_sample.columns, fill_value=0)  # Reindex and fill missing with 0\n",
    "    constrained4_returns = df_sample.dot(weight_series_aligned)\n",
    "\n",
    "    # Output results\n",
    "    print(constrained4_weights)\n",
    "    print(\"Portfolio returns:\", constrained4_returns)\n",
    "\n",
    "    # Plot the efficient frontier\n",
    "    fig, ax = plt.subplots()\n",
    "    plotting.plot_efficient_frontier(ef_constrained4, ax=ax, show_assets=True)\n",
    "    plt.show()\n",
    "else:\n",
    "    print(\"Optimization did not produce weights.\")"
   ]
  },
  {
   "cell_type": "code",
   "execution_count": 325,
   "id": "edebe1d8",
   "metadata": {},
   "outputs": [
    {
     "name": "stdout",
     "output_type": "stream",
     "text": [
      "Expected annual return: 70.1%\n",
      "Annual volatility: 12.2%\n",
      "Sharpe Ratio: 5.58\n",
      "Dimensions of transposed weights: (1, 3)\n",
      "       Weight\n",
      "AKR  0.618993\n",
      "AIZ  0.321510\n",
      "AA   0.059497\n",
      "Portfolio returns: 0    0.035\n",
      "1    0.045\n",
      "2    0.055\n",
      "dtype: float64\n"
     ]
    }
   ],
   "source": [
    "import pandas as pd\n",
    "from pypfopt.efficient_frontier import EfficientFrontier\n",
    "from pypfopt import risk_models\n",
    "from pypfopt.expected_returns import mean_historical_return\n",
    "import numpy as np\n",
    "import cvxpy as cp\n",
    "import matplotlib.pyplot as plt\n",
    "plt.style.use('ggplot')\n",
    "mpl.rcParams['figure.dpi'] = 150\n",
    "\n",
    "# Assuming df_sample and df_emissions are loaded with appropriate data\n",
    "# Define the CI function for carbon intensity\n",
    "def CI(w, portfolio_intensity):\n",
    "    xi = w @ portfolio_intensity.T\n",
    "    return cp.sum(xi)\n",
    "\n",
    "# Calculate expected returns and covariance matrix\n",
    "mu = mean_historical_return(df_sample, frequency=12, returns_data=True)\n",
    "S = risk_models.risk_matrix(df_sample, method='ledoit_wolf', returns_data=True)\n",
    "\n",
    "# Initialize EfficientFrontier\n",
    "ef_constrained4 = EfficientFrontier(mu, S, weight_bounds=(0, 1))\n",
    "\n",
    "# Add constraint for carbon intensity\n",
    "median_carbon_intensity = 162.5 # As calculated above\n",
    "ef_constrained4.add_constraint(lambda w: CI(w, df_emissions['Carbon Intensity']) <= median_carbon_intensity)\n",
    "\n",
    "\n",
    "# Set the solver to OSQP and enable verbose output\n",
    "ef_constrained4.convex_solver = 'OSQP'\n",
    "try:\n",
    "    weights4 = ef_constrained4.max_sharpe()\n",
    "    # If you still want verbose output for debugging, consider the following approach:\n",
    "    ef_constrained4.portfolio_performance(verbose=True)\n",
    "except ValueError as e:\n",
    "    print(\"Solver failed:\", e)\n",
    "\n",
    "# Create dataframe from weights\n",
    "constrained4_weights = pd.DataFrame.from_dict(weights4, orient='index', columns=['Weight'])\n",
    "# Filter and sort weights\n",
    "constrained4_weights = constrained4_weights[constrained4_weights['Weight'] > 10**-5].sort_values(by='Weight', ascending=False)\n",
    "\n",
    "# Print dimensions of the transposed weights for debugging\n",
    "print(\"Dimensions of transposed weights:\", constrained4_weights.T.values.shape)\n",
    "\n",
    "# Calculate portfolio returns\n",
    "# Ensure weight_series is aligned with df_sample columns\n",
    "weight_series = constrained4_weights.squeeze()  # This assumes the DataFrame has a single column of weights.\n",
    "weight_series_aligned = weight_series.reindex(df_sample.columns, fill_value=0)  # Reindex and fill missing with 0\n",
    "constrained4_returns = df_sample.dot(weight_series_aligned)\n",
    "\n",
    "# Output results\n",
    "print(constrained4_weights)\n",
    "print(\"Portfolio returns:\", constrained4_returns)"
   ]
  },
  {
   "cell_type": "code",
   "execution_count": null,
   "id": "a1765e61",
   "metadata": {},
   "outputs": [],
   "source": [
    "#Efficient Frontier with Carbon Intensity Constraint"
   ]
  },
  {
   "cell_type": "code",
   "execution_count": 342,
   "id": "8176adfb",
   "metadata": {},
   "outputs": [
    {
     "data": {
      "image/png": "[encoded data removed]",
      "text/plain": [
       "<Figure size 1500x750 with 1 Axes>"
      ]
     },
     "metadata": {},
     "output_type": "display_data"
    }
   ],
   "source": [
    "import pandas as pd\n",
    "from pypfopt.efficient_frontier import EfficientFrontier\n",
    "from pypfopt import risk_models\n",
    "from pypfopt.expected_returns import mean_historical_return\n",
    "import numpy as np\n",
    "import cvxpy as cp\n",
    "import matplotlib.pyplot as plt\n",
    "plt.style.use('ggplot')\n",
    "mpl.rcParams['figure.dpi'] = 150\n",
    "\n",
    "# Assuming df_sample and df_emissions are loaded with appropriate data\n",
    "# Define the CI function for carbon intensity\n",
    "def CI(w, portfolio_intensity):\n",
    "    xi = w @ portfolio_intensity.T\n",
    "    return cp.sum(xi)\n",
    "\n",
    "# Calculate expected returns and covariance matrix\n",
    "mu = mean_historical_return(returns_data, frequency=12, returns_data=True)\n",
    "S = risk_models.risk_matrix(returns_data, method='ledoit_wolf', returns_data=True)\n",
    "\n",
    "# Initialize EfficientFrontier\n",
    "ef4 = EfficientFrontier(mu, S, weight_bounds=(0, 1))\n",
    "\n",
    "# Add constraint for carbon intensity\n",
    "median_carbon_intensity = 167.5 # As calculated above\n",
    "ef4.add_constraint(lambda w: CI(w, df_emissions['Carbon Intensity']) <= median_carbon_intensity)\n",
    "\n",
    "# Generate points for the efficient frontier\n",
    "fig, ax = plt.subplots(figsize=(10, 5))\n",
    "plotting.plot_efficient_frontier(ef4, ax=ax)\n",
    "\n",
    "\n",
    "# Add legend and titles\n",
    "ax.set_title(\"Efficient Frontier with Carbon Intensity Constraint\")\n",
    "ax.legend()\n",
    "\n",
    "# Show the plot\n",
    "plt.show()"
   ]
  },
  {
   "cell_type": "code",
   "execution_count": 346,
   "id": "6b6a50f2",
   "metadata": {},
   "outputs": [],
   "source": [
    "#Tangency Portfolio Carbon Intensity"
   ]
  },
  {
   "cell_type": "code",
   "execution_count": 353,
   "id": "0e8fb558",
   "metadata": {},
   "outputs": [
    {
     "name": "stdout",
     "output_type": "stream",
     "text": [
      "Total Portfolio Carbon Intensity: 162.50000000000003\n"
     ]
    }
   ],
   "source": [
    "import pandas as pd\n",
    "\n",
    "# Example emissions data\n",
    "emissions_data = {\n",
    "    'Instrument': ['AA', 'AEO', 'AIZ', 'AKR'],\n",
    "    'Carbon Intensity': [100, 200, 150, 175]\n",
    "}\n",
    "\n",
    "# Convert dictionary to DataFrame if it's not already a DataFrame\n",
    "if isinstance(emissions_data, dict):\n",
    "    df_emissions = pd.DataFrame(emissions_data)\n",
    "else:\n",
    "    df_emissions = emissions_data\n",
    "\n",
    "# Ensure df_emissions index matches the tickers exactly\n",
    "df_emissions.set_index('Instrument', inplace=True)\n",
    "\n",
    "# Assuming constrained4_weights is already loaded and contains the correct data\n",
    "# Ensure the 'Carbon Intensity' is available and properly aligned with the tickers in constrained4_weights\n",
    "carbon_intensities = df_emissions.loc[constrained4_weights.index, 'Carbon Intensity']\n",
    "\n",
    "# Calculate portfolio emissions by multiplying weights with their respective carbon intensities\n",
    "portfolio_emissions = (constrained4_weights['Weight'] * carbon_intensities).sum()\n",
    "\n",
    "# Output the total portfolio emissions\n",
    "print(\"Total Portfolio Carbon Intensity:\", portfolio_emissions)\n"
   ]
  },
  {
   "cell_type": "code",
   "execution_count": 380,
   "id": "51152c0f",
   "metadata": {},
   "outputs": [
    {
     "name": "stdout",
     "output_type": "stream",
     "text": [
      "Optimization failed: ('Please check your objectives/constraints or use a different solver.', 'Solver status: infeasible')\n"
     ]
    }
   ],
   "source": [
    "import pandas as pd\n",
    "import numpy as np\n",
    "import matplotlib.pyplot as plt\n",
    "from pypfopt import EfficientFrontier, risk_models, expected_returns, plotting\n",
    "import cvxpy as cp\n",
    "from pypfopt.exceptions import OptimizationError\n",
    "\n",
    "# Load data\n",
    "emissions_data = pd.read_csv(r\"C:\\Users\\adhit\\OneDrive\\desktop\\GDS\\Green Data Science project\\DATA\\Emissions Data_66 stocks.csv\")\n",
    "returns_data = pd.read_csv(r\"C:\\Users\\adhit\\OneDrive\\desktop\\GDS\\Green Data Science project\\DATA\\Market Price_66 stocks.csv\", index_col='Date', parse_dates=True, usecols=range(67))\n",
    "\n",
    "# Data Cleansing\n",
    "emissions_data.columns = emissions_data.columns.str.strip()\n",
    "emissions_data = emissions_data.applymap(lambda x: x.strip() if isinstance(x, str) else x)\n",
    "emissions_data['CO2 Equivalent Emissions Direct, Scope 1'] = emissions_data['CO2 Equivalent Emissions Direct, Scope 1'].str.replace(',', '').astype(float)\n",
    "emissions_data['CO2 Equivalent Emissions Indirect, Scope 2'] = emissions_data['CO2 Equivalent Emissions Indirect, Scope 2'].str.replace(',', '').astype(float)\n",
    "\n",
    "# Calculate total emissions for each instrument\n",
    "emissions_data['Total Emissions'] = emissions_data['CO2 Equivalent Emissions Direct, Scope 1'] + emissions_data['CO2 Equivalent Emissions Indirect, Scope 2']\n",
    "relevant_emissions = emissions_data.set_index('Instrument')['Total Emissions']\n",
    "\n",
    "# Ensure the tickers in returns_data match those in relevant_emissions\n",
    "tickers = returns_data.columns.intersection(relevant_emissions.index)\n",
    "\n",
    "# Filter returns_data and relevant_emissions to include only matching tickers\n",
    "returns_data_filtered = returns_data[tickers]\n",
    "relevant_emissions_filtered = relevant_emissions[tickers]\n",
    "\n",
    "# Calculate mean historical returns and sample covariance matrix\n",
    "mu = expected_returns.mean_historical_return(returns_data_filtered, frequency=12, returns_data=True)\n",
    "S = risk_models.risk_matrix(returns_data_filtered, method='ledoit_wolf', returns_data=True)\n",
    "\n",
    "# Initialize the Efficient Frontier\n",
    "ef = EfficientFrontier(mu, S, weight_bounds=(0, 1))\n",
    "\n",
    "# Define the carbon emissions constraint function\n",
    "def emissions_constraint_func(w):\n",
    "    return cp.sum(cp.multiply(w, relevant_emissions_filtered.values)) <= 3000.0\n",
    "\n",
    "# Add constraints\n",
    "ef.add_constraint(lambda w: cp.sum(w) == 1)  # Ensure sum of weights is 1\n",
    "ef.add_constraint(emissions_constraint_func)\n",
    "\n",
    "# Set solver options\n",
    "ef.solver = cp.ECOS\n",
    "solver_options = {\n",
    "    'verbose': True,\n",
    "    'max_iters': 100000,  # Increased max iterations for robustness\n",
    "    'tol': 1e-6,  # Adjust tolerance\n",
    "}\n",
    "ef.solver_options = solver_options\n",
    "\n",
    "try:\n",
    "    weights = ef.max_sharpe()\n",
    "    cleaned_weights = ef.clean_weights()\n",
    "    performance = ef.portfolio_performance(verbose=True)\n",
    "    \n",
    "    # Filter out the stocks with zero weights\n",
    "    non_zero_weights = {k: v for k, v in cleaned_weights.items() if v > 0}\n",
    "    print(non_zero_weights)\n",
    "    print(f\"Expected annual return: {performance[0]*100:.2f}%\")\n",
    "    print(f\"Annual volatility: {performance[1]*100:.2f}%\")\n",
    "    print(f\"Sharpe Ratio: {performance[2]:.2f}\")\n",
    "    \n",
    "    # Calculate the total carbon emissions of the portfolio\n",
    "    total_emissions = sum(weights[ticker] * relevant_emissions_filtered[ticker] for ticker in non_zero_weights.keys())\n",
    "    print(f\"Total Portfolio Carbon Emissions: {total_emissions}\")\n",
    "    \n",
    "    # Save the details to a CSV file for verification\n",
    "    emission_details = pd.DataFrame({\n",
    "        'Ticker': list(non_zero_weights.keys()),\n",
    "        'Weight': [non_zero_weights[ticker] for ticker in non_zero_weights.keys()],\n",
    "        'Total Emissions': [relevant_emissions_filtered[ticker] for ticker in non_zero_weights.keys()]\n",
    "    })\n",
    "    emission_details['Weighted Emissions'] = emission_details['Weight'] * emission_details['Total Emissions']\n",
    "    emission_details.to_csv('portfolio_emissions.csv', index=False)\n",
    "    print(\"Detailed calculations have been saved to 'portfolio_emissions.csv'.\")\n",
    "except OptimizationError as e:\n",
    "    print(\"Optimization failed:\", e)"
   ]
  },
  {
   "cell_type": "code",
   "execution_count": null,
   "id": "cae923b0",
   "metadata": {},
   "outputs": [],
   "source": []
  },
  {
   "cell_type": "code",
   "execution_count": 387,
   "id": "0fdf9bab",
   "metadata": {},
   "outputs": [
    {
     "name": "stdout",
     "output_type": "stream",
     "text": [
      "Expected annual return: 26.5%\n",
      "Annual volatility: 77.5%\n",
      "Sharpe Ratio: 0.32\n",
      "{'AIZ': 0.04183, 'APH': 0.01995, 'APO': 0.05392, 'BAH': 0.16747, 'BJ': 0.28254, 'GE': 0.07182, 'HES': 0.02422, 'HRB': 0.04605, 'HWM': 0.13907, 'NOW': 0.08894, 'TYL': 0.06419}\n",
      "Expected annual return: 26.51%\n",
      "Annual volatility: 77.54%\n",
      "Sharpe Ratio: 0.32\n",
      "Total Portfolio Carbon Emissions: 423929.8399388318\n",
      "Detailed calculations have been saved to 'portfolio_emissions.csv'.\n"
     ]
    },
    {
     "name": "stderr",
     "output_type": "stream",
     "text": [
      "C:\\Users\\adhit\\anaconda3\\Lib\\site-packages\\cvxpy\\problems\\problem.py:1407: UserWarning: Solution may be inaccurate. Try another solver, adjusting the solver settings, or solve with verbose=True for more information.\n",
      "  warnings.warn(\n"
     ]
    },
    {
     "data": {
      "image/png": "[encoded data removed]",
      "text/plain": [
       "<Figure size 1500x750 with 1 Axes>"
      ]
     },
     "metadata": {},
     "output_type": "display_data"
    }
   ],
   "source": [
    "import pandas as pd\n",
    "import numpy as np\n",
    "import matplotlib.pyplot as plt\n",
    "from pypfopt import EfficientFrontier, risk_models, expected_returns, plotting\n",
    "import cvxpy as cp\n",
    "from pypfopt.exceptions import OptimizationError\n",
    "\n",
    "# Load data\n",
    "emissions_data = pd.read_csv(r\"C:\\Users\\adhit\\OneDrive\\desktop\\GDS\\Green Data Science project\\DATA\\Emissions Data_66 stocks.csv\")\n",
    "returns_data = pd.read_csv(r\"C:\\Users\\adhit\\OneDrive\\desktop\\GDS\\Green Data Science project\\DATA\\Market Price_66 stocks.csv\", index_col='Date', parse_dates=True, usecols=range(67))\n",
    "\n",
    "# Data Cleansing\n",
    "emissions_data.columns = emissions_data.columns.str.strip()\n",
    "emissions_data = emissions_data.applymap(lambda x: x.strip() if isinstance(x, str) else x)\n",
    "emissions_data['CO2 Equivalent Emissions Direct, Scope 1'] = emissions_data['CO2 Equivalent Emissions Direct, Scope 1'].str.replace(',', '').astype(float)\n",
    "emissions_data['CO2 Equivalent Emissions Indirect, Scope 2'] = emissions_data['CO2 Equivalent Emissions Indirect, Scope 2'].str.replace(',', '').astype(float)\n",
    "\n",
    "# Calculate total emissions for each instrument\n",
    "emissions_data['Total Emissions'] = emissions_data['CO2 Equivalent Emissions Direct, Scope 1'] + emissions_data['CO2 Equivalent Emissions Indirect, Scope 2']\n",
    "relevant_emissions = emissions_data.set_index('Instrument')['Total Emissions']\n",
    "\n",
    "# Ensure the tickers in returns_data match those in relevant_emissions\n",
    "tickers = returns_data.columns.intersection(relevant_emissions.index)\n",
    "\n",
    "# Filter returns_data and relevant_emissions to include only matching tickers\n",
    "returns_data_filtered = returns_data[tickers]\n",
    "relevant_emissions_filtered = relevant_emissions[tickers]\n",
    "\n",
    "# Calculate mean historical returns and sample covariance matrix\n",
    "mu = expected_returns.mean_historical_return(returns_data_filtered, frequency=12, returns_data=True)\n",
    "S = risk_models.risk_matrix(returns_data_filtered, method='ledoit_wolf', returns_data=True)\n",
    "\n",
    "# Initialize the Efficient Frontier\n",
    "ef = EfficientFrontier(mu, S, weight_bounds=(0, 1))\n",
    "\n",
    "# Define the carbon emissions constraint function\n",
    "def emissions_constraint_func(w):\n",
    "    return cp.sum(cp.multiply(w, relevant_emissions_filtered.values)) <= 1000000  # Adjust the constraint as needed\n",
    "\n",
    "# Add constraints before solving\n",
    "ef.add_constraint(lambda w: cp.sum(w) == 1)  # Ensure sum of weights is 1\n",
    "ef.add_constraint(emissions_constraint_func)\n",
    "\n",
    "# Set solver options\n",
    "ef.solver = cp.ECOS\n",
    "solver_options = {\n",
    "    'verbose': True,\n",
    "    'max_iters': 100000,  # Increased max iterations for robustness\n",
    "    'tol': 1e-6,  # Adjust tolerance\n",
    "}\n",
    "ef.solver_options = solver_options\n",
    "\n",
    "try:\n",
    "    weights = ef.max_sharpe()\n",
    "    cleaned_weights = ef.clean_weights()\n",
    "    performance = ef.portfolio_performance(verbose=True)\n",
    "    \n",
    "    # Filter out the stocks with zero weights\n",
    "    non_zero_weights = {k: v for k, v in cleaned_weights.items() if v > 0}\n",
    "    print(non_zero_weights)\n",
    "    print(f\"Expected annual return: {performance[0]*100:.2f}%\")\n",
    "    print(f\"Annual volatility: {performance[1]*100:.2f}%\")\n",
    "    print(f\"Sharpe Ratio: {performance[2]:.2f}\")\n",
    "    \n",
    "    # Calculate the total carbon emissions of the portfolio\n",
    "    total_emissions = sum(weights[ticker] * relevant_emissions_filtered[ticker] for ticker in non_zero_weights.keys())\n",
    "    print(f\"Total Portfolio Carbon Emissions: {total_emissions}\")\n",
    "    \n",
    "    # Save the details to a CSV file for verification\n",
    "    emission_details = pd.DataFrame({\n",
    "        'Ticker': list(non_zero_weights.keys()),\n",
    "        'Weight': [non_zero_weights[ticker] for ticker in non_zero_weights.keys()],\n",
    "        'Total Emissions': [relevant_emissions_filtered[ticker] for ticker in non_zero_weights.keys()]\n",
    "    })\n",
    "    emission_details['Weighted Emissions'] = emission_details['Weight'] * emission_details['Total Emissions']\n",
    "    emission_details.to_csv('portfolio_emissions.csv', index=False)\n",
    "    print(\"Detailed calculations have been saved to 'portfolio_emissions.csv'.\")\n",
    "except OptimizationError as e:\n",
    "    print(\"Optimization failed:\", e)\n",
    "\n",
    "# Create a new instance for plotting the efficient frontier\n",
    "ef_plot = EfficientFrontier(mu, S, weight_bounds=(0, 1))\n",
    "\n",
    "# Plot the Efficient Frontier\n",
    "fig, ax = plt.subplots(figsize=(10, 5))\n",
    "plotting.plot_efficient_frontier(ef_plot, ax=ax, show_assets=True)\n",
    "ax.set_title(\"Efficient Frontier with Carbon Emissions Constraint\")\n",
    "ax.legend()\n",
    "\n",
    "# Show the plot\n",
    "plt.show()"
   ]
  },
  {
   "cell_type": "code",
   "execution_count": null,
   "id": "724995fc",
   "metadata": {},
   "outputs": [],
   "source": []
  }
 ],
 "metadata": {
  "kernelspec": {
   "display_name": "Python 3 (ipykernel)",
   "language": "python",
   "name": "python3"
  },
  "language_info": {
   "codemirror_mode": {
    "name": "ipython",
    "version": 3
   },
   "file_extension": ".py",
   "mimetype": "text/x-python",
   "name": "python",
   "nbconvert_exporter": "python",
   "pygments_lexer": "ipython3",
   "version": "3.11.5"
  }
 },
 "nbformat": 4,
 "nbformat_minor": 5
}
